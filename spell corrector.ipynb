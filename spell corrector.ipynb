{
 "cells": [
  {
   "cell_type": "code",
   "execution_count": 1,
   "metadata": {},
   "outputs": [],
   "source": [
    "import re\n",
    "from collections import Counter"
   ]
  },
  {
   "cell_type": "code",
   "execution_count": 2,
   "metadata": {},
   "outputs": [],
   "source": [
    "# function to tokenise words\n",
    "def words(document):\n",
    "    \"Convert text to lower case and tokenise the document\"\n",
    "    return re.findall(r'\\w+', document.lower())"
   ]
  },
  {
   "cell_type": "code",
   "execution_count": 3,
   "metadata": {},
   "outputs": [],
   "source": [
    "# create a frequency table of all the words of the document\n",
    "all_words = Counter(words(open('big.txt').read()))"
   ]
  },
  {
   "cell_type": "code",
   "execution_count": 4,
   "metadata": {},
   "outputs": [
    {
     "data": {
      "text/plain": [
       "132"
      ]
     },
     "execution_count": 4,
     "metadata": {},
     "output_type": "execute_result"
    }
   ],
   "source": [
    "# check frequency of a random word, say, 'chair'\n",
    "all_words['chair']"
   ]
  },
  {
   "cell_type": "code",
   "execution_count": 5,
   "metadata": {},
   "outputs": [
    {
     "data": {
      "text/plain": [
       "[('the', 78578),\n",
       " ('of', 39128),\n",
       " ('and', 37858),\n",
       " ('to', 28366),\n",
       " ('in', 21722),\n",
       " ('a', 20858),\n",
       " ('he', 12353),\n",
       " ('that', 12235),\n",
       " ('was', 11372),\n",
       " ('it', 10534)]"
      ]
     },
     "execution_count": 5,
     "metadata": {},
     "output_type": "execute_result"
    }
   ],
   "source": [
    "# look at top 10 frequent words\n",
    "all_words.most_common(10)"
   ]
  },
  {
   "cell_type": "code",
   "execution_count": 6,
   "metadata": {},
   "outputs": [],
   "source": [
    "def edits_one(word):\n",
    "    \"Create all edits that are one edit away from `word`.\"\n",
    "    alphabets    = 'abcdefghijklmnopqrstuvwxyz'\n",
    "    splits     = [(word[:i], word[i:])                   for i in range(len(word) + 1)]\n",
    "    deletes    = [left + right[1:]                       for left, right in splits if right]\n",
    "    inserts    = [left + c + right                       for left, right in splits for c in alphabets]\n",
    "    replaces   = [left + c + right[1:]                   for left, right in splits if right for c in alphabets]\n",
    "    transposes = [left + right[1] + right[0] + right[2:] for left, right in splits if len(right)>1]\n",
    "    return set(deletes + inserts + replaces + transposes)"
   ]
  },
  {
   "cell_type": "code",
   "execution_count": 7,
   "metadata": {},
   "outputs": [],
   "source": [
    "def edits_two(word):\n",
    "    \"Create all edits that are two edits away from `word`.\"\n",
    "    return (e2 for e1 in edits_one(word) for e2 in edits_one(e1))"
   ]
  },
  {
   "cell_type": "code",
   "execution_count": 8,
   "metadata": {},
   "outputs": [],
   "source": [
    "def known(words):\n",
    "    \"The subset of `words` that appear in the `all_words`.\"\n",
    "    return set(word for word in words if word in all_words)"
   ]
  },
  {
   "cell_type": "code",
   "execution_count": 9,
   "metadata": {},
   "outputs": [],
   "source": [
    "def possible_corrections(word):\n",
    "    \"Generate possible spelling corrections for word.\"\n",
    "    return (known([word]) or known(edits_one(word)) or known(edits_two(word)) or [word])"
   ]
  },
  {
   "cell_type": "code",
   "execution_count": 10,
   "metadata": {},
   "outputs": [],
   "source": [
    "def prob(word, N=sum(all_words.values())): \n",
    "    \"Probability of `word`: Number of appearances of 'word' / total number of tokens\"\n",
    "    return all_words[word] / N"
   ]
  },
  {
   "cell_type": "code",
   "execution_count": 11,
   "metadata": {},
   "outputs": [
    {
     "name": "stdout",
     "output_type": "stream",
     "text": [
      "336\n",
      "{'sonney', 'monneya', 'monneyf', 'monnay', 'monfney', 'monnvy', 'monnegy', 'monned', 'monnefy', 'monnzy', 'mopney', 'montney', 'mdnney', 'moneny', 'monhey', 'monley', 'movnney', 'jonney', 'monnjey', 'monsey', 'mozney', 'mxonney', 'momney', 'bonney', 'monneay', 'monnsey', 'monnewy', 'monnee', 'mosnney', 'monnby', 'mjnney', 'molney', 'mqnney', 'monncy', 'monnry', 'monneym', 'monniy', 'monnevy', 'mqonney', 'movney', 'monbney', 'monneky', 'monnet', 'monneyz', 'monnoy', 'monnxey', 'mobnney', 'mouney', 'monkey', 'monnny', 'monnuy', 'moncey', 'mhnney', 'motney', 'moenney', 'monxney', 'monndey', 'monnye', 'monnoey', 'monneoy', 'monneiy', 'motnney', 'mcnney', 'mdonney', 'monneb', 'monnef', 'amonney', 'moncney', 'monnehy', 'monwey', 'mvonney', 'monneuy', 'moinney', 'monmey', 'monndy', 'mnney', 'gonney', 'monneqy', 'muonney', 'monnley', 'msnney', 'smonney', 'mfnney', 'aonney', 'moknney', 'molnney', 'monnek', 'monwney', 'mionney', 'monnyy', 'monnyey', 'fonney', 'nonney', 'tmonney', 'mmonney', 'monnjy', 'mooney', 'monneys', 'modnney', 'monneyh', 'monneyy', 'monneyl', 'monneh', 'monnex', 'moyney', 'mgnney', 'mondey', 'monnea', 'meonney', 'minney', 'moniney', 'qonney', 'mznney', 'monjney', 'monbey', 'monny', 'honney', 'mokney', 'monneyj', 'monzney', 'ponney', 'moonney', 'moanney', 'monnmy', 'mojnney', 'monnqey', 'monvey', 'monnezy', 'mownney', 'mocney', 'mofnney', 'mbnney', 'monnecy', 'mynney', 'mlonney', 'monneyg', 'moneney', 'mogney', 'mongey', 'lmonney', 'maonney', 'monnky', 'monvney', 'onney', 'mtnney', 'mhonney', 'mronney', 'mrnney', 'gmonney', 'moqnney', 'mnnney', 'mwnney', 'monngey', 'monneyv', 'emonney', 'mbonney', 'yonney', 'mkonney', 'monrney', 'qmonney', 'monnery', 'dmonney', 'monnen', 'mongney', 'mvnney', 'mnoney', 'moneey', 'monnvey', 'mjonney', 'mtonney', 'monnej', 'monniey', 'monne', 'mobney', 'monnei', 'monnejy', 'monnty', 'monnwey', 'jmonney', 'monnmey', 'mondney', 'monneu', 'monnrey', 'monjey', 'ymonney', 'monzey', 'monnuey', 'monnkey', 'myonney', 'monnec', 'money', 'monnemy', 'cmonney', 'donney', 'moxney', 'monneyk', 'wonney', 'moqney', 'monnsy', 'mnonney', 'mgonney', 'monneyi', 'monpey', 'monnhy', 'nmonney', 'kmonney', 'mzonney', 'monnney', 'montey', 'moiney', 'moynney', 'monnfy', 'monfey', 'mopnney', 'eonney', 'uonney', 'conney', 'monnaey', 'monnep', 'monlney', 'monnly', 'monncey', 'moniey', 'umonney', 'imonney', 'monqney', 'monnedy', 'monneq', 'oonney', 'moaney', 'monnpy', 'mxnney', 'wmonney', 'monneyp', 'monnev', 'monnepy', 'monnez', 'mononey', 'mlnney', 'monneyb', 'monneo', 'monnqy', 'omnney', 'mohney', 'monmney', 'monnel', 'omonney', 'monneyu', 'tonney', 'modney', 'zonney', 'monaey', 'monneyx', 'moznney', 'monxey', 'monnbey', 'monaney', 'monneyt', 'monneg', 'mpnney', 'monsney', 'monneyq', 'hmonney', 'monneyo', 'monneyc', 'mornney', 'monkney', 'mowney', 'mofney', 'momnney', 'ionney', 'moeney', 'mojney', 'mponney', 'monneey', 'monnxy', 'monneyd', 'monnem', 'mosney', 'monuey', 'mwonney', 'manney', 'mounney', 'rmonney', 'ronney', 'bmonney', 'monneye', 'morney', 'monneny', 'munney', 'monrey', 'monqey', 'monney', 'monyney', 'zmonney', 'msonney', 'monuney', 'mohnney', 'mknney', 'moxnney', 'monngy', 'mconney', 'mognney', 'monhney', 'monoey', 'monnwy', 'monnexy', 'monyey', 'monnew', 'mfonney', 'monnfey', 'menney', 'monnpey', 'monntey', 'monneyr', 'monneby', 'vonney', 'monnzey', 'monner', 'monnety', 'fmonney', 'monnesy', 'vmonney', 'monnes', 'mmnney', 'monneyw', 'xmonney', 'xonney', 'pmonney', 'mocnney', 'lonney', 'monneyn', 'monnhey', 'monpney', 'monnely', 'konney'}\n"
     ]
    }
   ],
   "source": [
    "print(len(set(edits_one(\"monney\"))))\n",
    "print(edits_one(\"monney\"))"
   ]
  },
  {
   "cell_type": "code",
   "execution_count": 12,
   "metadata": {},
   "outputs": [
    {
     "name": "stdout",
     "output_type": "stream",
     "text": [
      "{'money', 'monkey'}\n"
     ]
    }
   ],
   "source": [
    "print(known(edits_one(\"monney\")))"
   ]
  },
  {
   "cell_type": "code",
   "execution_count": 13,
   "metadata": {},
   "outputs": [
    {
     "name": "stdout",
     "output_type": "stream",
     "text": [
      "51013\n",
      "{'money', 'monkey'}\n"
     ]
    }
   ],
   "source": [
    "# Let's look at words that are two edits away\n",
    "print(len(set(edits_two(\"monney\"))))\n",
    "print(known(edits_one(\"monney\")))"
   ]
  },
  {
   "cell_type": "code",
   "execution_count": 14,
   "metadata": {},
   "outputs": [
    {
     "name": "stdout",
     "output_type": "stream",
     "text": [
      "{'money', 'monkey'}\n"
     ]
    }
   ],
   "source": [
    "# Let's look at possible corrections of a word\n",
    "print(possible_corrections(\"monney\"))"
   ]
  },
  {
   "cell_type": "code",
   "execution_count": 15,
   "metadata": {},
   "outputs": [
    {
     "name": "stdout",
     "output_type": "stream",
     "text": [
      "0.0002924262523131193\n",
      "3.689921164834313e-06\n"
     ]
    }
   ],
   "source": [
    "# Let's look at probability of a word\n",
    "print(prob(\"money\"))\n",
    "print(prob(\"monkey\"))"
   ]
  },
  {
   "cell_type": "code",
   "execution_count": 16,
   "metadata": {},
   "outputs": [],
   "source": [
    "def spell_check(word):\n",
    "    \"Print the most probable spelling correction for `word` out of all the `possible_corrections`\"\n",
    "    correct_word = max(possible_corrections(word), key=prob)\n",
    "    if correct_word != word:\n",
    "        return \"Did you mean \" + correct_word + \"?\"\n",
    "    else:\n",
    "        return \"Correct spelling.\""
   ]
  },
  {
   "cell_type": "code",
   "execution_count": 17,
   "metadata": {},
   "outputs": [
    {
     "name": "stdout",
     "output_type": "stream",
     "text": [
      "Did you mean money?\n"
     ]
    }
   ],
   "source": [
    "# test spell check\n",
    "print(spell_check(\"monney\"))"
   ]
  },
  {
   "cell_type": "code",
   "execution_count": 18,
   "metadata": {},
   "outputs": [
    {
     "name": "stdout",
     "output_type": "stream",
     "text": [
      "442\n"
     ]
    }
   ],
   "source": [
    "print(len(edits_one(\"emfasize\")))"
   ]
  },
  {
   "cell_type": "code",
   "execution_count": 19,
   "metadata": {},
   "outputs": [
    {
     "name": "stdout",
     "output_type": "stream",
     "text": [
      "90902\n"
     ]
    }
   ],
   "source": [
    "print(len(set(edits_two(\"emfasize\"))))"
   ]
  },
  {
   "cell_type": "code",
   "execution_count": 20,
   "metadata": {},
   "outputs": [
    {
     "name": "stdout",
     "output_type": "stream",
     "text": [
      "{'emphasize'}\n"
     ]
    }
   ],
   "source": [
    "print(possible_corrections(\"emfasize\"))"
   ]
  }
 ],
 "metadata": {
  "kernelspec": {
   "display_name": "Python 3 (ipykernel)",
   "language": "python",
   "name": "python3"
  },
  "language_info": {
   "codemirror_mode": {
    "name": "ipython",
    "version": 3
   },
   "file_extension": ".py",
   "mimetype": "text/x-python",
   "name": "python",
   "nbconvert_exporter": "python",
   "pygments_lexer": "ipython3",
   "version": "3.9.7"
  }
 },
 "nbformat": 4,
 "nbformat_minor": 2
}
